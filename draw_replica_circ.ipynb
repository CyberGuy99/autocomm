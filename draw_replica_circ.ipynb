{
 "cells": [
  {
   "cell_type": "code",
   "execution_count": 1,
   "id": "66174ff5-7e88-4953-806b-c1a980a7ca38",
   "metadata": {},
   "outputs": [],
   "source": [
    "from qiskit import QuantumCircuit\n",
    "\n",
    "quantum_circuits = [\n",
    "        [\n",
    "            {'type': 'H', 'qubits': [0]},\n",
    "            {'type': 'CNOT', 'qubits': [0, 1]},\n",
    "            {'type': 'X', 'qubits': [1]},\n",
    "            {'type': 'CZ', 'qubits': [1, 2]},\n",
    "        ],\n",
    "        [\n",
    "            {'type': 'Z', 'qubits': [0]},\n",
    "            {'type': 'CNOT1', 'qubits': [0, 1]},\n",
    "            {'type': 'CZ', 'qubits': [0, 2]},\n",
    "        ],\n",
    "        [\n",
    "            {'type': 'Z', 'qubits': [0]},\n",
    "            {'type': 'CNOT1', 'qubits': [0, 1]},\n",
    "            {'type': 'CZ', 'qubits': [0, 4]},\n",
    "        ],\n",
    "    ]"
   ]
  },
  {
   "cell_type": "code",
   "execution_count": 2,
   "id": "723f7fbe-330f-4e7e-839a-b34f4dc6a27c",
   "metadata": {},
   "outputs": [],
   "source": [
    "def get_num_qubits(circ):\n",
    "    qubits = set()\n",
    "    for gate in circ:\n",
    "        for qubit in gate['qubits']:\n",
    "            qubits.add(qubit)\n",
    "    return max(qubits) + 1, qubits"
   ]
  },
  {
   "cell_type": "code",
   "execution_count": 3,
   "id": "dfa50a33-e7bf-41b3-9bef-ef90ddedb4fa",
   "metadata": {},
   "outputs": [
    {
     "data": {
      "text/plain": [
       "[(3, {0, 1, 2}), (3, {0, 1, 2}), (5, {0, 1, 4})]"
      ]
     },
     "execution_count": 3,
     "metadata": {},
     "output_type": "execute_result"
    }
   ],
   "source": [
    "[get_num_qubits(c) for c in quantum_circuits]"
   ]
  },
  {
   "cell_type": "code",
   "execution_count": 4,
   "id": "11776c5b-89a5-4d6f-a462-34dd530677bd",
   "metadata": {},
   "outputs": [],
   "source": [
    "def circ_to_ibm(circ):\n",
    "    num_qubits, _ = get_num_qubits(circ)\n",
    "    ibm_circ = QuantumCircuit(num_qubits)\n",
    "\n",
    "    for gate in circ:\n",
    "        gate_type = gate['type']\n",
    "        if gate_type == 'H':\n",
    "            ibm_circ.h(gate['qubits'][0])\n",
    "        if gate_type == 'X':\n",
    "            ibm_circ.x(gate['qubits'][0])\n",
    "        if gate_type.startswith('CNOT'):\n",
    "            ibm_circ.cx(gate['qubits'][0], gate['qubits'][1])\n",
    "        if gate_type == 'CZ':\n",
    "            ibm_circ.cz(gate['qubits'][0], gate['qubits'][1])\n",
    "        if gate_type == 'SYNC':\n",
    "            ibm_circ.barrier()\n",
    "\n",
    "    return ibm_circ"
   ]
  },
  {
   "cell_type": "code",
   "execution_count": 6,
   "id": "35017f84-1179-40f1-9577-ab766bde45fc",
   "metadata": {},
   "outputs": [],
   "source": [
    "from annotating_circuit import get_segmented_circuit\n",
    "seg_circs = [get_segmented_circuit(f'circ_{i}.pickle') for i in range(len(quantum_circuits))]"
   ]
  },
  {
   "cell_type": "markdown",
   "id": "d77cdd81",
   "metadata": {},
   "source": [
    "## Segmenting Circuits"
   ]
  },
  {
   "cell_type": "markdown",
   "id": "95b7db50",
   "metadata": {},
   "source": [
    "### First Circuit"
   ]
  },
  {
   "cell_type": "code",
   "execution_count": 10,
   "id": "621b9ec2-adad-412b-b29f-114b440ffaa5",
   "metadata": {},
   "outputs": [
    {
     "data": {
      "text/html": [
       "<pre style=\"word-wrap: normal;white-space: pre;background: #fff0;line-height: 1.1;font-family: &quot;Courier New&quot;,Courier,monospace\">     ┌───┐             \n",
       "q_0: ┤ H ├──■──────────\n",
       "     └───┘┌─┴─┐┌───┐   \n",
       "q_1: ─────┤ X ├┤ X ├─■─\n",
       "          └───┘└───┘ │ \n",
       "q_2: ────────────────■─\n",
       "                       </pre>"
      ],
      "text/plain": [
       "     ┌───┐             \n",
       "q_0: ┤ H ├──■──────────\n",
       "     └───┘┌─┴─┐┌───┐   \n",
       "q_1: ─────┤ X ├┤ X ├─■─\n",
       "          └───┘└───┘ │ \n",
       "q_2: ────────────────■─\n",
       "                       "
      ]
     },
     "execution_count": 10,
     "metadata": {},
     "output_type": "execute_result"
    }
   ],
   "source": [
    "circ_to_ibm(quantum_circuits[0]).draw()"
   ]
  },
  {
   "cell_type": "code",
   "execution_count": null,
   "id": "19c5c57b-d7cb-4def-ae78-26032c26e4ce",
   "metadata": {},
   "outputs": [
    {
     "data": {
      "text/html": [
       "<pre style=\"word-wrap: normal;white-space: pre;background: #fff0;line-height: 1.1;font-family: &quot;Courier New&quot;,Courier,monospace\">      ░ ┌───┐ ░              \n",
       "q_0: ─░─┤ H ├─░───■──────────\n",
       "      ░ └───┘ ░ ┌─┴─┐┌───┐   \n",
       "q_1: ─░───────░─┤ X ├┤ X ├─■─\n",
       "      ░       ░ └───┘└───┘ │ \n",
       "q_2: ─░───────░────────────■─\n",
       "      ░       ░              </pre>"
      ],
      "text/plain": [
       "      ░ ┌───┐ ░              \n",
       "q_0: ─░─┤ H ├─░───■──────────\n",
       "      ░ └───┘ ░ ┌─┴─┐┌───┐   \n",
       "q_1: ─░───────░─┤ X ├┤ X ├─■─\n",
       "      ░       ░ └───┘└───┘ │ \n",
       "q_2: ─░───────░────────────■─\n",
       "      ░       ░              "
      ]
     },
     "execution_count": 12,
     "metadata": {},
     "output_type": "execute_result"
    }
   ],
   "source": [
    "circ_to_ibm(seg_circs[0]).draw()"
   ]
  },
  {
   "cell_type": "markdown",
   "id": "4fae23f8",
   "metadata": {},
   "source": [
    "### Second Circuit"
   ]
  },
  {
   "cell_type": "code",
   "execution_count": null,
   "id": "81a2913a-cdd4-44fb-ae5c-7108bf8c6718",
   "metadata": {},
   "outputs": [
    {
     "data": {
      "text/html": [
       "<pre style=\"word-wrap: normal;white-space: pre;background: #fff0;line-height: 1.1;font-family: &quot;Courier New&quot;,Courier,monospace\">             \n",
       "q_0: ──■───■─\n",
       "     ┌─┴─┐ │ \n",
       "q_1: ┤ X ├─┼─\n",
       "     └───┘ │ \n",
       "q_2: ──────■─\n",
       "             </pre>"
      ],
      "text/plain": [
       "             \n",
       "q_0: ──■───■─\n",
       "     ┌─┴─┐ │ \n",
       "q_1: ┤ X ├─┼─\n",
       "     └───┘ │ \n",
       "q_2: ──────■─\n",
       "             "
      ]
     },
     "execution_count": 13,
     "metadata": {},
     "output_type": "execute_result"
    }
   ],
   "source": [
    "circ_to_ibm(quantum_circuits[1]).draw()"
   ]
  },
  {
   "cell_type": "code",
   "execution_count": null,
   "id": "55fa5dd4-a4ab-4231-84b8-2a2b17a05d02",
   "metadata": {},
   "outputs": [
    {
     "data": {
      "text/html": [
       "<pre style=\"word-wrap: normal;white-space: pre;background: #fff0;line-height: 1.1;font-family: &quot;Courier New&quot;,Courier,monospace\">      ░         \n",
       "q_0: ─░───■───■─\n",
       "      ░ ┌─┴─┐ │ \n",
       "q_1: ─░─┤ X ├─┼─\n",
       "      ░ └───┘ │ \n",
       "q_2: ─░───────■─\n",
       "      ░         </pre>"
      ],
      "text/plain": [
       "      ░         \n",
       "q_0: ─░───■───■─\n",
       "      ░ ┌─┴─┐ │ \n",
       "q_1: ─░─┤ X ├─┼─\n",
       "      ░ └───┘ │ \n",
       "q_2: ─░───────■─\n",
       "      ░         "
      ]
     },
     "execution_count": 14,
     "metadata": {},
     "output_type": "execute_result"
    }
   ],
   "source": [
    "circ_to_ibm(seg_circs[1]).draw()"
   ]
  },
  {
   "cell_type": "markdown",
   "id": "3ac1da52",
   "metadata": {},
   "source": [
    "### Third Circuit"
   ]
  },
  {
   "cell_type": "code",
   "execution_count": null,
   "id": "fabe52db-c293-45a2-85ac-70603d8a8fd5",
   "metadata": {},
   "outputs": [
    {
     "data": {
      "text/html": [
       "<pre style=\"word-wrap: normal;white-space: pre;background: #fff0;line-height: 1.1;font-family: &quot;Courier New&quot;,Courier,monospace\">             \n",
       "q_0: ──■───■─\n",
       "     ┌─┴─┐ │ \n",
       "q_1: ┤ X ├─┼─\n",
       "     └───┘ │ \n",
       "q_2: ──────┼─\n",
       "           │ \n",
       "q_3: ──────┼─\n",
       "           │ \n",
       "q_4: ──────■─\n",
       "             </pre>"
      ],
      "text/plain": [
       "             \n",
       "q_0: ──■───■─\n",
       "     ┌─┴─┐ │ \n",
       "q_1: ┤ X ├─┼─\n",
       "     └───┘ │ \n",
       "q_2: ──────┼─\n",
       "           │ \n",
       "q_3: ──────┼─\n",
       "           │ \n",
       "q_4: ──────■─\n",
       "             "
      ]
     },
     "execution_count": 15,
     "metadata": {},
     "output_type": "execute_result"
    }
   ],
   "source": [
    "circ_to_ibm(quantum_circuits[2]).draw()"
   ]
  },
  {
   "cell_type": "code",
   "execution_count": null,
   "id": "758f27fd-2aaa-4e7e-9146-58a1e941c2e6",
   "metadata": {},
   "outputs": [
    {
     "data": {
      "text/html": [
       "<pre style=\"word-wrap: normal;white-space: pre;background: #fff0;line-height: 1.1;font-family: &quot;Courier New&quot;,Courier,monospace\">      ░         \n",
       "q_0: ─░───■───■─\n",
       "      ░ ┌─┴─┐ │ \n",
       "q_1: ─░─┤ X ├─┼─\n",
       "      ░ └───┘ │ \n",
       "q_2: ─░───────┼─\n",
       "      ░       │ \n",
       "q_3: ─░───────┼─\n",
       "      ░       │ \n",
       "q_4: ─░───────■─\n",
       "      ░         </pre>"
      ],
      "text/plain": [
       "      ░         \n",
       "q_0: ─░───■───■─\n",
       "      ░ ┌─┴─┐ │ \n",
       "q_1: ─░─┤ X ├─┼─\n",
       "      ░ └───┘ │ \n",
       "q_2: ─░───────┼─\n",
       "      ░       │ \n",
       "q_3: ─░───────┼─\n",
       "      ░       │ \n",
       "q_4: ─░───────■─\n",
       "      ░         "
      ]
     },
     "execution_count": 16,
     "metadata": {},
     "output_type": "execute_result"
    }
   ],
   "source": [
    "circ_to_ibm(seg_circs[2]).draw()"
   ]
  }
 ],
 "metadata": {
  "kernelspec": {
   "display_name": "autocomm-env",
   "language": "python",
   "name": "python3"
  },
  "language_info": {
   "codemirror_mode": {
    "name": "ipython",
    "version": 3
   },
   "file_extension": ".py",
   "mimetype": "text/x-python",
   "name": "python",
   "nbconvert_exporter": "python",
   "pygments_lexer": "ipython3",
   "version": "3.10.12"
  }
 },
 "nbformat": 4,
 "nbformat_minor": 5
}
