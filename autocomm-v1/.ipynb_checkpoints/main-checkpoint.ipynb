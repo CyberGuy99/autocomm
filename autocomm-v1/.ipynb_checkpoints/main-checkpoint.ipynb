{
 "cells": [
  {
   "cell_type": "code",
   "execution_count": 1,
   "metadata": {},
   "outputs": [],
   "source": [
    "from gate_util import *\n",
    "from merge_func import *\n",
    "from commute_func import *\n",
    "from autocomm import *"
   ]
  },
  {
   "cell_type": "code",
   "execution_count": 4,
   "metadata": {},
   "outputs": [],
   "source": [
    "def BV(num_qubits, qb_per_node):\n",
    "    gate_list = []\n",
    "    for i in range(num_qubits-1):\n",
    "        gate_list.append(build_gate(\"CX\", [0, i+1]))\n",
    "    qubit_node_mapping = [i//qb_per_node for i in range(num_qubits)] # optimal mapping obtained\n",
    "    return gate_list, qubit_node_mapping"
   ]
  },
  {
   "cell_type": "code",
   "execution_count": 5,
   "metadata": {},
   "outputs": [
    {
     "name": "stdout",
     "output_type": "stream",
     "text": [
      "9 220.6999999999999\n"
     ]
    }
   ],
   "source": [
    "num_q, qb_per_node = 100, 10\n",
    "gate_list, qubit_node_mapping = BV(num_q, qb_per_node)\n",
    "g_list = comm_aggregate(gate_list, qubit_node_mapping, refine_iter_cnt=num_q//qb_per_node)\n",
    "assigned_gate_block_list = comm_assign(g_list, qubit_node_mapping)\n",
    "epr_cnt, all_latency, assigned_gate_block_list1 = comm_schedule(assigned_gate_block_list, qubit_node_mapping, refine_iter_cnt=num_q//qb_per_node)\n",
    "print(epr_cnt, all_latency)"
   ]
  },
  {
   "cell_type": "code",
   "execution_count": 6,
   "metadata": {},
   "outputs": [],
   "source": [
    "def QFT(num_qubits, qb_per_node):\n",
    "    gate_list = []\n",
    "    for i in range(num_qubits-1):\n",
    "        gate_list.append(build_H_gate(i))\n",
    "        for j in range(i+1, num_qubits):\n",
    "            gate_list.append(build_CX_gate(j,i))\n",
    "            gate_list.append(build_RZ_gate(i,angle=-np.pi/4/2**(j-i)))\n",
    "            gate_list.append(build_CX_gate(j,i))\n",
    "            gate_list.append(build_RZ_gate(i,angle=np.pi/4/2**(j-i)))\n",
    "    qubit_node_mapping = [i//qb_per_node for i in range(num_qubits)] # optimal mapping obtained\n",
    "    return gate_list, qubit_node_mapping"
   ]
  },
  {
   "cell_type": "code",
   "execution_count": 17,
   "metadata": {},
   "outputs": [
    {
     "name": "stdout",
     "output_type": "stream",
     "text": [
      "1620 39018.999999999585\n"
     ]
    }
   ],
   "source": [
    "num_q, qb_per_node = 300, 30\n",
    "gate_list, qubit_node_mapping = QFT(num_q, qb_per_node)\n",
    "g_list = comm_aggregate(gate_list, qubit_node_mapping, refine_iter_cnt=1)\n",
    "assigned_gate_block_list = comm_assign(g_list, qubit_node_mapping)\n",
    "epr_cnt, all_latency, assigned_gate_block_list1 = comm_schedule(assigned_gate_block_list, qubit_node_mapping, refine_iter_cnt=num_q//qb_per_node)\n",
    "print(epr_cnt, all_latency)"
   ]
  },
  {
   "cell_type": "code",
   "execution_count": 8,
   "metadata": {},
   "outputs": [
    {
     "data": {
      "text/plain": [
       "[1, 2]"
      ]
     },
     "execution_count": 8,
     "metadata": {},
     "output_type": "execute_result"
    }
   ],
   "source": [
    "import random\n",
    "random.sample([1,2,3],2)"
   ]
  },
  {
   "cell_type": "code",
   "execution_count": 9,
   "metadata": {},
   "outputs": [],
   "source": [
    "def QAOA(num_terms, num_qubits, qb_per_node):\n",
    "    import random\n",
    "    gate_list = []\n",
    "    for i in range(num_terms):\n",
    "        qa, qb = random.sample(list(range(num_qubits)), 2)\n",
    "        gate_list.append(build_CX_gate(qa,qb))\n",
    "        gate_list.append(build_RZ_gate(qb,angle=0.1))\n",
    "        gate_list.append(build_CX_gate(qa,qb))\n",
    "    qubit_node_mapping = [i//qb_per_node for i in range(num_qubits)]\n",
    "    return gate_list, qubit_node_mapping"
   ]
  },
  {
   "cell_type": "code",
   "execution_count": 18,
   "metadata": {},
   "outputs": [
    {
     "name": "stdout",
     "output_type": "stream",
     "text": [
      "170 785.4000000000009\n",
      "2.1058823529411765\n"
     ]
    }
   ],
   "source": [
    "num_q, qb_per_node = 100, 10\n",
    "gate_list, qubit_node_mapping = QAOA(200, num_q, qb_per_node)\n",
    "g_list = comm_aggregate(gate_list, qubit_node_mapping, refine_iter_cnt=num_q//qb_per_node)\n",
    "assigned_gate_block_list = comm_assign(g_list, qubit_node_mapping)\n",
    "epr_cnt, all_latency, assigned_gate_block_list1 = comm_schedule(assigned_gate_block_list, qubit_node_mapping, refine_iter_cnt=num_q//qb_per_node)\n",
    "cnt = 0\n",
    "for g in gate_list:\n",
    "    qbs = gate_qubits(g)\n",
    "    if len(qbs) == 2:\n",
    "        if qubit_node_mapping[qbs[0]] != qubit_node_mapping[qbs[1]]:\n",
    "            cnt += 1\n",
    "print(epr_cnt, all_latency)\n",
    "print(cnt/epr_cnt)"
   ]
  },
  {
   "cell_type": "code",
   "execution_count": 11,
   "metadata": {},
   "outputs": [],
   "source": [
    "def build_toffoli_gate(qa, qb, qc):\n",
    "    gate_list = []\n",
    "    gate_list.append(build_H_gate(qc))\n",
    "    gate_list.append(build_CX_gate(qb,qc))\n",
    "    gate_list.append(build_Tdg_gate(qc))\n",
    "    gate_list.append(build_CX_gate(qa,qc))\n",
    "    gate_list.append(build_T_gate(qc))\n",
    "    gate_list.append(build_CX_gate(qb,qc))\n",
    "    gate_list.append(build_Tdg_gate(qc))\n",
    "    gate_list.append(build_CX_gate(qa,qc))\n",
    "    gate_list.append(build_T_gate(qb))\n",
    "    gate_list.append(build_T_gate(qc))\n",
    "    gate_list.append(build_H_gate(qc))\n",
    "    gate_list.append(build_CX_gate(qa,qb))\n",
    "    gate_list.append(build_T_gate(qa))\n",
    "    gate_list.append(build_Tdg_gate(qb))\n",
    "    gate_list.append(build_CX_gate(qa,qb))\n",
    "    return gate_list\n",
    "\n",
    "def RCA(num_qubits, qb_per_node):\n",
    "    start_qb = 0\n",
    "    gate_list = []\n",
    "    while start_qb < num_qubits-3:\n",
    "        qa, qb, qc = start_qb, start_qb+1, start_qb+2\n",
    "        gate_list.append(build_CX_gate(qc,qb))\n",
    "        gate_list.append(build_CX_gate(qc,qa))\n",
    "        gate_list += build_toffoli_gate(qa, qb, qc)\n",
    "        start_qb += 2\n",
    "    start_qb -= 2\n",
    "    gate_list.append(build_CX_gate(start_qb,start_qb+1))\n",
    "    while start_qb > 0:\n",
    "        qa, qb, qc = start_qb-2,start_qb-1,start_qb\n",
    "        gate_list += build_toffoli_gate(qa, qb, qc)\n",
    "        gate_list.append(build_CX_gate(qc,qa))\n",
    "        gate_list.append(build_CX_gate(qa,qb))\n",
    "        start_qb -= 2\n",
    "    qubit_node_mapping = [i//qb_per_node for i in range(num_qubits)] # the optimal one\n",
    "    return gate_list, qubit_node_mapping"
   ]
  },
  {
   "cell_type": "code",
   "execution_count": 12,
   "metadata": {},
   "outputs": [
    {
     "name": "stdout",
     "output_type": "stream",
     "text": [
      "36 816.2000000000068\n"
     ]
    }
   ],
   "source": [
    "num_q, qb_per_node = 100, 10\n",
    "gate_list, qubit_node_mapping = RCA(num_q, qb_per_node)\n",
    "g_list = comm_aggregate(gate_list, qubit_node_mapping, refine_iter_cnt=3)\n",
    "assigned_gate_block_list = comm_assign(g_list, qubit_node_mapping)\n",
    "epr_cnt, all_latency, assigned_gate_block_list1 = comm_schedule(assigned_gate_block_list, qubit_node_mapping, refine_iter_cnt=num_q//qb_per_node)\n",
    "print(epr_cnt, all_latency)"
   ]
  }
 ],
 "metadata": {
  "kernelspec": {
   "display_name": "autocomm-env",
   "language": "python",
   "name": "autocomm-env"
  },
  "language_info": {
   "codemirror_mode": {
    "name": "ipython",
    "version": 3
   },
   "file_extension": ".py",
   "mimetype": "text/x-python",
   "name": "python",
   "nbconvert_exporter": "python",
   "pygments_lexer": "ipython3",
   "version": "3.10.12"
  }
 },
 "nbformat": 4,
 "nbformat_minor": 4
}
