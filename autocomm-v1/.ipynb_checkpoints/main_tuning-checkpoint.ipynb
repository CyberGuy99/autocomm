{
 "cells": [
  {
   "cell_type": "code",
   "execution_count": 1,
   "metadata": {},
   "outputs": [],
   "source": [
    "from gate_util import *\n",
    "from merge_func import *\n",
    "from commute_func import *\n",
    "from autocomm import *"
   ]
  },
  {
   "cell_type": "code",
   "execution_count": 7,
   "metadata": {},
   "outputs": [],
   "source": [
    "def run_experiment(circuit_func, num_q=100, qb_per_node=10, refine_iter_cnt=3):\n",
    "    gate_list, qubit_node_mapping = circuit_func(num_q, qb_per_node)\n",
    "    \n",
    "    g_list = comm_aggregate(gate_list, qubit_node_mapping, refine_iter_cnt=refine_iter_cnt)\n",
    "    assigned_gate_block_list = comm_assign(g_list, qubit_node_mapping)\n",
    "    \n",
    "    epr_cnt, all_latency, assigned_gate_block_list1 = comm_schedule(assigned_gate_block_list, qubit_node_mapping, refine_iter_cnt=num_q//qb_per_node)\n",
    "    \n",
    "    print(epr_cnt, all_latency)\n",
    "    return epr_cnt, all_latency"
   ]
  },
  {
   "cell_type": "code",
   "execution_count": 8,
   "metadata": {},
   "outputs": [],
   "source": [
    "def BV(num_qubits, qb_per_node):\n",
    "    gate_list = []\n",
    "    for i in range(num_qubits-1):\n",
    "        gate_list.append(build_gate(\"CX\", [0, i+1]))\n",
    "    qubit_node_mapping = [i//qb_per_node for i in range(num_qubits)] # optimal mapping obtained\n",
    "    return gate_list, qubit_node_mapping"
   ]
  },
  {
   "cell_type": "code",
   "execution_count": 9,
   "metadata": {},
   "outputs": [
    {
     "name": "stdout",
     "output_type": "stream",
     "text": [
      "9 220.6999999999999\n"
     ]
    },
    {
     "data": {
      "text/plain": [
       "(9, 220.6999999999999)"
      ]
     },
     "execution_count": 9,
     "metadata": {},
     "output_type": "execute_result"
    }
   ],
   "source": [
    "num_q, qb_per_node = 100, 10\n",
    "run_experiment(circuit_func=BV, num_q=num_q, qb_per_node=qb_per_node, refine_iter_cnt=num_q//qb_per_node)"
   ]
  },
  {
   "cell_type": "code",
   "execution_count": 10,
   "metadata": {},
   "outputs": [],
   "source": [
    "def QFT(num_qubits, qb_per_node):\n",
    "    gate_list = []\n",
    "    for i in range(num_qubits-1):\n",
    "        gate_list.append(build_H_gate(i))\n",
    "        for j in range(i+1, num_qubits):\n",
    "            gate_list.append(build_CX_gate(j,i))\n",
    "            gate_list.append(build_RZ_gate(i,angle=-np.pi/4/2**(j-i)))\n",
    "            gate_list.append(build_CX_gate(j,i))\n",
    "            gate_list.append(build_RZ_gate(i,angle=np.pi/4/2**(j-i)))\n",
    "    qubit_node_mapping = [i//qb_per_node for i in range(num_qubits)] # optimal mapping obtained\n",
    "    return gate_list, qubit_node_mapping"
   ]
  },
  {
   "cell_type": "code",
   "execution_count": 11,
   "metadata": {},
   "outputs": [
    {
     "name": "stdout",
     "output_type": "stream",
     "text": [
      "1620 39018.999999999585\n"
     ]
    },
    {
     "data": {
      "text/plain": [
       "(1620, 39018.999999999585)"
      ]
     },
     "execution_count": 11,
     "metadata": {},
     "output_type": "execute_result"
    }
   ],
   "source": [
    "num_q, qb_per_node = 300, 30\n",
    "run_experiment(circuit_func=QFT, num_q=num_q, qb_per_node=qb_per_node, refine_iter_cnt=1)"
   ]
  },
  {
   "cell_type": "code",
   "execution_count": 8,
   "metadata": {},
   "outputs": [
    {
     "data": {
      "text/plain": [
       "[1, 2]"
      ]
     },
     "execution_count": 8,
     "metadata": {},
     "output_type": "execute_result"
    }
   ],
   "source": [
    "import random\n",
    "random.sample([1,2,3],2)"
   ]
  },
  {
   "cell_type": "code",
   "execution_count": 15,
   "metadata": {},
   "outputs": [],
   "source": [
    "def QAOA(num_qubits, qb_per_node, num_terms=200):\n",
    "    import random\n",
    "    gate_list = []\n",
    "    for i in range(num_terms):\n",
    "        qa, qb = random.sample(list(range(num_qubits)), 2)\n",
    "        gate_list.append(build_CX_gate(qa,qb))\n",
    "        gate_list.append(build_RZ_gate(qb,angle=0.1))\n",
    "        gate_list.append(build_CX_gate(qa,qb))\n",
    "    qubit_node_mapping = [i//qb_per_node for i in range(num_qubits)]\n",
    "    return gate_list, qubit_node_mapping"
   ]
  },
  {
   "cell_type": "code",
   "execution_count": 18,
   "metadata": {},
   "outputs": [
    {
     "name": "stdout",
     "output_type": "stream",
     "text": [
      "170 785.4000000000009\n",
      "2.1058823529411765\n"
     ]
    }
   ],
   "source": [
    "# num_q, qb_per_node = 100, 10\n",
    "# gate_list, qubit_node_mapping = QAOA(200, num_q, qb_per_node)\n",
    "# g_list = comm_aggregate(gate_list, qubit_node_mapping, refine_iter_cnt=num_q//qb_per_node)\n",
    "# assigned_gate_block_list = comm_assign(g_list, qubit_node_mapping)\n",
    "# epr_cnt, all_latency, assigned_gate_block_list1 = comm_schedule(assigned_gate_block_list, qubit_node_mapping, refine_iter_cnt=num_q//qb_per_node)\n",
    "# cnt = 0\n",
    "# for g in gate_list:\n",
    "#     qbs = gate_qubits(g)\n",
    "#     if len(qbs) == 2:\n",
    "#         if qubit_node_mapping[qbs[0]] != qubit_node_mapping[qbs[1]]:\n",
    "#             cnt += 1\n",
    "# print(epr_cnt, all_latency)\n",
    "# print(cnt/epr_cnt) # 2.105"
   ]
  },
  {
   "cell_type": "code",
   "execution_count": 20,
   "metadata": {},
   "outputs": [
    {
     "name": "stdout",
     "output_type": "stream",
     "text": [
      "173 705.5000000000007\n"
     ]
    },
    {
     "data": {
      "text/plain": [
       "(173, 705.5000000000007)"
      ]
     },
     "execution_count": 20,
     "metadata": {},
     "output_type": "execute_result"
    }
   ],
   "source": [
    "num_q, qb_per_node = 100, 10\n",
    "run_experiment(circuit_func=QAOA, num_q=num_q, qb_per_node=qb_per_node, refine_iter_cnt=num_q//qb_per_node)"
   ]
  },
  {
   "cell_type": "markdown",
   "metadata": {},
   "source": [
    "def build_toffoli_gate(qa, qb, qc):\n",
    "    gate_list = []\n",
    "    gate_list.append(build_H_gate(qc))\n",
    "    gate_list.append(build_CX_gate(qb,qc))\n",
    "    gate_list.append(build_Tdg_gate(qc))\n",
    "    gate_list.append(build_CX_gate(qa,qc))\n",
    "    gate_list.append(build_T_gate(qc))\n",
    "    gate_list.append(build_CX_gate(qb,qc))\n",
    "    gate_list.append(build_Tdg_gate(qc))\n",
    "    gate_list.append(build_CX_gate(qa,qc))\n",
    "    gate_list.append(build_T_gate(qb))\n",
    "    gate_list.append(build_T_gate(qc))\n",
    "    gate_list.append(build_H_gate(qc))\n",
    "    gate_list.append(build_CX_gate(qa,qb))\n",
    "    gate_list.append(build_T_gate(qa))\n",
    "    gate_list.append(build_Tdg_gate(qb))\n",
    "    gate_list.append(build_CX_gate(qa,qb))\n",
    "    return gate_list\n",
    "\n",
    "def RCA(num_qubits, qb_per_node):\n",
    "    start_qb = 0\n",
    "    gate_list = []\n",
    "    while start_qb < num_qubits-3:\n",
    "        qa, qb, qc = start_qb, start_qb+1, start_qb+2\n",
    "        gate_list.append(build_CX_gate(qc,qb))\n",
    "        gate_list.append(build_CX_gate(qc,qa))\n",
    "        gate_list += build_toffoli_gate(qa, qb, qc)\n",
    "        start_qb += 2\n",
    "    start_qb -= 2\n",
    "    gate_list.append(build_CX_gate(start_qb,start_qb+1))\n",
    "    while start_qb > 0:\n",
    "        qa, qb, qc = start_qb-2,start_qb-1,start_qb\n",
    "        gate_list += build_toffoli_gate(qa, qb, qc)\n",
    "        gate_list.append(build_CX_gate(qc,qa))\n",
    "        gate_list.append(build_CX_gate(qa,qb))\n",
    "        start_qb -= 2\n",
    "    qubit_node_mapping = [i//qb_per_node for i in range(num_qubits)] # the optimal one\n",
    "    return gate_list, qubit_node_mapping"
   ]
  },
  {
   "cell_type": "code",
   "execution_count": 19,
   "metadata": {},
   "outputs": [
    {
     "name": "stdout",
     "output_type": "stream",
     "text": [
      "36 816.2000000000068\n"
     ]
    },
    {
     "data": {
      "text/plain": [
       "(36, 816.2000000000068)"
      ]
     },
     "execution_count": 19,
     "metadata": {},
     "output_type": "execute_result"
    }
   ],
   "source": [
    "num_q, qb_per_node = 100, 10\n",
    "run_experiment(circuit_func=RCA, num_q=num_q, qb_per_node=qb_per_node, refine_iter_cnt=3)"
   ]
  },
  {
   "cell_type": "markdown",
   "metadata": {},
   "source": [
    "## Converging"
   ]
  },
  {
   "cell_type": "code",
   "execution_count": 59,
   "metadata": {},
   "outputs": [],
   "source": [
    "def try_until_converge(circuit_func, num_q, qb_per_node, threshold=3, iter_gen=(5,100, 5)):\n",
    "    converged = False\n",
    "    prev_epr, _ = run_experiment(circuit_func, num_q, qb_per_node, refine_iter_cnt=1)\n",
    "    prev_i = 1\n",
    "    \n",
    "    for i in range(*iter_gen):\n",
    "        curr_epr, _ = run_experiment(circuit_func, num_q, qb_per_node, refine_iter_cnt=i)\n",
    "\n",
    "        diff = abs(curr_epr - prev_epr)\n",
    "        if diff <= threshold:\n",
    "            best_iter_cnt = i\n",
    "            if diff == 0:\n",
    "                best_iter_cnt = prev_i # Print previous iter\n",
    "                \n",
    "            print(f'Refine Iter Cnt: {best_iter_cnt}')\n",
    "            break\n",
    "            \n",
    "        prev_i = i\n",
    "        prev_epr = curr_epr\n",
    "\n",
    "    return curr_epr"
   ]
  },
  {
   "cell_type": "code",
   "execution_count": 60,
   "metadata": {},
   "outputs": [
    {
     "name": "stdout",
     "output_type": "stream",
     "text": [
      "9 220.6999999999999\n",
      "9 220.6999999999999\n",
      "Refine Iter Cnt: 1\n"
     ]
    },
    {
     "data": {
      "text/plain": [
       "9"
      ]
     },
     "execution_count": 60,
     "metadata": {},
     "output_type": "execute_result"
    }
   ],
   "source": [
    "num_q, qb_per_node = 100, 10\n",
    "try_until_converge(circuit_func=BV, num_q=num_q, qb_per_node=qb_per_node)"
   ]
  },
  {
   "cell_type": "code",
   "execution_count": 61,
   "metadata": {},
   "outputs": [
    {
     "name": "stdout",
     "output_type": "stream",
     "text": [
      "1620 39018.999999999585\n",
      "1620 39018.999999999585\n",
      "Refine Iter Cnt: 1\n"
     ]
    },
    {
     "data": {
      "text/plain": [
       "1620"
      ]
     },
     "execution_count": 61,
     "metadata": {},
     "output_type": "execute_result"
    }
   ],
   "source": [
    "num_q, qb_per_node = 300, 30\n",
    "try_until_converge(circuit_func=QFT, num_q=num_q, qb_per_node=qb_per_node)"
   ]
  },
  {
   "cell_type": "code",
   "execution_count": 62,
   "metadata": {},
   "outputs": [
    {
     "name": "stdout",
     "output_type": "stream",
     "text": [
      "178 784.2000000000008\n",
      "174 771.9000000000011\n",
      "173 740.8000000000005\n",
      "Refine Iter Cnt: 10\n"
     ]
    },
    {
     "data": {
      "text/plain": [
       "173"
      ]
     },
     "execution_count": 62,
     "metadata": {},
     "output_type": "execute_result"
    }
   ],
   "source": [
    "num_q, qb_per_node = 100, 10\n",
    "try_until_converge(circuit_func=QAOA, num_q=num_q, qb_per_node=qb_per_node)"
   ]
  },
  {
   "cell_type": "code",
   "execution_count": 63,
   "metadata": {},
   "outputs": [
    {
     "name": "stdout",
     "output_type": "stream",
     "text": [
      "72 1524.9999999999918\n",
      "36 816.2000000000068\n",
      "36 816.2000000000068\n",
      "Refine Iter Cnt: 5\n"
     ]
    },
    {
     "data": {
      "text/plain": [
       "36"
      ]
     },
     "execution_count": 63,
     "metadata": {},
     "output_type": "execute_result"
    }
   ],
   "source": [
    "num_q, qb_per_node = 100, 10\n",
    "try_until_converge(circuit_func=RCA, num_q=num_q, qb_per_node=qb_per_node)"
   ]
  },
  {
   "cell_type": "code",
   "execution_count": 64,
   "metadata": {},
   "outputs": [
    {
     "name": "stdout",
     "output_type": "stream",
     "text": [
      "72 1524.9999999999918\n",
      "54 1297.899999999998\n",
      "36 816.2000000000068\n",
      "36 816.2000000000068\n",
      "Refine Iter Cnt: 3\n"
     ]
    },
    {
     "data": {
      "text/plain": [
       "36"
      ]
     },
     "execution_count": 64,
     "metadata": {},
     "output_type": "execute_result"
    }
   ],
   "source": [
    "try_until_converge(circuit_func=RCA, num_q=num_q, qb_per_node=qb_per_node, iter_gen=(2,5))"
   ]
  },
  {
   "cell_type": "code",
   "execution_count": null,
   "metadata": {},
   "outputs": [],
   "source": []
  }
 ],
 "metadata": {
  "kernelspec": {
   "display_name": "autocomm-env",
   "language": "python",
   "name": "autocomm-env"
  },
  "language_info": {
   "codemirror_mode": {
    "name": "ipython",
    "version": 3
   },
   "file_extension": ".py",
   "mimetype": "text/x-python",
   "name": "python",
   "nbconvert_exporter": "python",
   "pygments_lexer": "ipython3",
   "version": "3.10.12"
  }
 },
 "nbformat": 4,
 "nbformat_minor": 4
}
